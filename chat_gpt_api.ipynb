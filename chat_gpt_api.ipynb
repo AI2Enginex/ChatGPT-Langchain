{
 "cells": [
  {
   "cell_type": "code",
   "execution_count": 1,
   "metadata": {},
   "outputs": [],
   "source": [
    "from text_summarization import TextSummarisation\n",
    "from text_summarization import DocumentSummarisation\n",
    "from text_summarization import LongTextSummarisation\n",
    "from text_summarization import DocumentQA\n",
    "from text_summarization import ContextMapping"
   ]
  },
  {
   "cell_type": "markdown",
   "metadata": {},
   "source": [
    "# Summarizing Text"
   ]
  },
  {
   "cell_type": "code",
   "execution_count": 2,
   "metadata": {},
   "outputs": [
    {
     "name": "stdout",
     "output_type": "stream",
     "text": [
      "\n",
      "             The stock market went up again and the Nifty50 went past 19,800. It looks like it might reach 20,000 soon. If it goes down, it will stay around 19,700-19,600. Lots of people bought stocks and the market was happy.\n"
     ]
    }
   ],
   "source": [
    "t = TextSummarisation(model='text-davinci-003')\n",
    "print(t.summarise_text(user_input=\"The market continued its uptrend journey for yet another session with the Nifty50 scaling past the 19,800 mark, taking support at 19,750 throughout the day on October 11. Hence, as long as the index holds the 19,800-19,750 area, reaching 20,000 points seems possible in the coming sessions, whereas on other side, the 19,700-19,600 zone is likely to act as a support in case of correction, experts said.The Nifty50 jumped 122 points to 19,811, and the BSE Sensex climbed 394 points to 66,473, while market breadth remained positive in the ratio of 2:1. The Nifty Midcap 100 and Smallcap 100 indices also participated in the run, rising half a percent and eight-tenth of a percent\"))"
   ]
  },
  {
   "cell_type": "markdown",
   "metadata": {},
   "source": [
    "# Summarizing Long text"
   ]
  },
  {
   "cell_type": "code",
   "execution_count": 3,
   "metadata": {},
   "outputs": [
    {
     "name": "stdout",
     "output_type": "stream",
     "text": [
      "\n",
      "\n",
      "\u001b[1m> Entering new MapReduceDocumentsChain chain...\u001b[0m\n",
      "\n",
      "\n",
      "\u001b[1m> Entering new LLMChain chain...\u001b[0m\n",
      "Prompt after formatting:\n",
      "\u001b[32;1m\u001b[1;3mWrite a concise summary of the following:\n",
      "\n",
      "\n",
      "\"Prabhudas Lilladher has come out with its second quarter (July-September’ 24) earnings estimates for the Consumer Durables sector. The brokerage house expects Bajaj Electricals to report net profit at Rs. 58.5 crore down 8.5% year-on-year (up 35.9% quarter-on-quarter).Net Sales are expected to decrease by 0.4 percent Y-o-Y (up 9.3 percent Q-o-Q) to Rs. 1,215.7 crore, according to Prabhudas Lilladher.Earnings before interest, tax, depreciation and amortisation (EBITDA) are likely to fall by 5.4 percent Y-o-Y (up 28 percent Q-o-Q) to Rs. 88.7 crore.Disclaimer: The views and investment tips expressed by investment experts on moneycontrol.com are their own, and not that of the website or its management. Moneycontrol.com advises users to check with certified experts before taking any investment decisions.\"\n",
      "\n",
      "\n",
      "CONCISE SUMMARY:\u001b[0m\n",
      "\n",
      "\u001b[1m> Finished chain.\u001b[0m\n",
      "\n",
      "\n",
      "\u001b[1m> Entering new LLMChain chain...\u001b[0m\n",
      "Prompt after formatting:\n",
      "\u001b[32;1m\u001b[1;3mWrite a concise summary of the following:\n",
      "\n",
      "\n",
      "\" Prabhudas Lilladher has released its second quarter earnings estimates for the Consumer Durables sector, expecting Bajaj Electricals to report a net profit of Rs. 58.5 crore, down 8.5% year-on-year but up 35.9% quarter-on-quarter. Net Sales are expected to decrease by 0.4% Y-o-Y and EBITDA by 5.4% Y-o-Y. Investment decisions should be made with the advice of certified experts.\"\n",
      "\n",
      "\n",
      "CONCISE SUMMARY:\u001b[0m\n",
      "\n",
      "\u001b[1m> Finished chain.\u001b[0m\n",
      "\n",
      "\u001b[1m> Finished chain.\u001b[0m\n",
      " Prabhudas Lilladher has released its second quarter earnings estimates for the Consumer Durables sector, forecasting a net profit of Rs. 58.5 crore for Bajaj Electricals, a decrease of 8.5% year-on-year but an increase of 35.9% quarter-on-quarter. Net Sales and EBITDA are expected to decrease by 0.4% and 5.4% respectively year-on-year. Investment decisions should be made with the advice of certified experts.\n"
     ]
    }
   ],
   "source": [
    "l = LongTextSummarisation(model=None)\n",
    "print(l.summarise_long_text(user_input=\"Prabhudas Lilladher has come out with its second quarter (July-September’ 24) earnings estimates for the Consumer Durables sector. The brokerage house expects Bajaj Electricals to report net profit at Rs. 58.5 crore down 8.5% year-on-year (up 35.9% quarter-on-quarter).Net Sales are expected to decrease by 0.4 percent Y-o-Y (up 9.3 percent Q-o-Q) to Rs. 1,215.7 crore, according to Prabhudas Lilladher.Earnings before interest, tax, depreciation and amortisation (EBITDA) are likely to fall by 5.4 percent Y-o-Y (up 28 percent Q-o-Q) to Rs. 88.7 crore.Disclaimer: The views and investment tips expressed by investment experts on moneycontrol.com are their own, and not that of the website or its management. Moneycontrol.com advises users to check with certified experts before taking any investment decisions.\"))"
   ]
  },
  {
   "cell_type": "markdown",
   "metadata": {},
   "source": [
    "# Q and A for Document"
   ]
  },
  {
   "cell_type": "code",
   "execution_count": 4,
   "metadata": {},
   "outputs": [
    {
     "name": "stderr",
     "output_type": "stream",
     "text": [
      "Retrying langchain.llms.openai.completion_with_retry.<locals>._completion_with_retry in 4.0 seconds as it raised RateLimitError: Rate limit reached for text-davinci-003 in organization org-iNPdIKgOw9q11RjlutdHCT2F on requests per min (RPM): Limit 3, Used 3, Requested 1. Please try again in 20s. Visit https://platform.openai.com/account/rate-limits to learn more. You can increase your rate limit by adding a payment method to your account at https://platform.openai.com/account/billing..\n",
      "Retrying langchain.llms.openai.completion_with_retry.<locals>._completion_with_retry in 4.0 seconds as it raised RateLimitError: Rate limit reached for text-davinci-003 in organization org-iNPdIKgOw9q11RjlutdHCT2F on requests per min (RPM): Limit 3, Used 3, Requested 1. Please try again in 20s. Visit https://platform.openai.com/account/rate-limits to learn more. You can increase your rate limit by adding a payment method to your account at https://platform.openai.com/account/billing..\n",
      "Retrying langchain.llms.openai.completion_with_retry.<locals>._completion_with_retry in 4.0 seconds as it raised RateLimitError: Rate limit reached for text-davinci-003 in organization org-iNPdIKgOw9q11RjlutdHCT2F on requests per min (RPM): Limit 3, Used 3, Requested 1. Please try again in 20s. Visit https://platform.openai.com/account/rate-limits to learn more. You can increase your rate limit by adding a payment method to your account at https://platform.openai.com/account/billing..\n"
     ]
    },
    {
     "name": "stdout",
     "output_type": "stream",
     "text": [
      " This document is about mutual funds in India, discussing the recent trends, regulations, and advice for mid- and small-cap investors. It also includes interviews with financial professionals and reviews of services provided by Humshad Charna.\n"
     ]
    }
   ],
   "source": [
    "filename = ''\n",
    "ds = DocumentQA(filepath=f'{filename}')\n",
    "print(ds.run_engine(\"what is the document all about\"))"
   ]
  },
  {
   "cell_type": "markdown",
   "metadata": {},
   "source": [
    "# Generating Summary of Document"
   ]
  },
  {
   "cell_type": "code",
   "execution_count": 5,
   "metadata": {},
   "outputs": [
    {
     "name": "stderr",
     "output_type": "stream",
     "text": [
      "Retrying langchain.llms.openai.completion_with_retry.<locals>._completion_with_retry in 4.0 seconds as it raised RateLimitError: Rate limit reached for text-davinci-003 in organization org-iNPdIKgOw9q11RjlutdHCT2F on requests per min (RPM): Limit 3, Used 3, Requested 1. Please try again in 20s. Visit https://platform.openai.com/account/rate-limits to learn more. You can increase your rate limit by adding a payment method to your account at https://platform.openai.com/account/billing..\n",
      "Retrying langchain.llms.openai.completion_with_retry.<locals>._completion_with_retry in 4.0 seconds as it raised RateLimitError: Rate limit reached for text-davinci-003 in organization org-iNPdIKgOw9q11RjlutdHCT2F on requests per min (RPM): Limit 3, Used 3, Requested 1. Please try again in 20s. Visit https://platform.openai.com/account/rate-limits to learn more. You can increase your rate limit by adding a payment method to your account at https://platform.openai.com/account/billing..\n",
      "Retrying langchain.llms.openai.completion_with_retry.<locals>._completion_with_retry in 4.0 seconds as it raised RateLimitError: Rate limit reached for text-davinci-003 in organization org-iNPdIKgOw9q11RjlutdHCT2F on requests per min (RPM): Limit 3, Used 3, Requested 1. Please try again in 20s. Visit https://platform.openai.com/account/rate-limits to learn more. You can increase your rate limit by adding a payment method to your account at https://platform.openai.com/account/billing..\n",
      "Retrying langchain.llms.openai.completion_with_retry.<locals>._completion_with_retry in 8.0 seconds as it raised RateLimitError: Rate limit reached for text-davinci-003 in organization org-iNPdIKgOw9q11RjlutdHCT2F on requests per min (RPM): Limit 3, Used 3, Requested 1. Please try again in 20s. Visit https://platform.openai.com/account/rate-limits to learn more. You can increase your rate limit by adding a payment method to your account at https://platform.openai.com/account/billing..\n",
      "Retrying langchain.llms.openai.completion_with_retry.<locals>._completion_with_retry in 4.0 seconds as it raised RateLimitError: Rate limit reached for text-davinci-003 in organization org-iNPdIKgOw9q11RjlutdHCT2F on requests per min (RPM): Limit 3, Used 3, Requested 1. Please try again in 20s. Visit https://platform.openai.com/account/rate-limits to learn more. You can increase your rate limit by adding a payment method to your account at https://platform.openai.com/account/billing..\n",
      "Retrying langchain.llms.openai.completion_with_retry.<locals>._completion_with_retry in 4.0 seconds as it raised RateLimitError: Rate limit reached for text-davinci-003 in organization org-iNPdIKgOw9q11RjlutdHCT2F on requests per min (RPM): Limit 3, Used 3, Requested 1. Please try again in 20s. Visit https://platform.openai.com/account/rate-limits to learn more. You can increase your rate limit by adding a payment method to your account at https://platform.openai.com/account/billing..\n",
      "Retrying langchain.llms.openai.completion_with_retry.<locals>._completion_with_retry in 4.0 seconds as it raised RateLimitError: Rate limit reached for text-davinci-003 in organization org-iNPdIKgOw9q11RjlutdHCT2F on requests per min (RPM): Limit 3, Used 3, Requested 1. Please try again in 20s. Visit https://platform.openai.com/account/rate-limits to learn more. You can increase your rate limit by adding a payment method to your account at https://platform.openai.com/account/billing..\n"
     ]
    },
    {
     "name": "stdout",
     "output_type": "stream",
     "text": [
      " Balanced Advantage Funds (BAFs) and Equity Linked Savings Schemes (ELSS) are two types of mutual funds that offer investors potential for stable returns, lower risk, dynamic asset allocation, professional management, and tax efficiency. Mukesh Ambani is disrupting the mutual fund sector in India with Jio Financial Services, and Isha Ambani is leading a mission to democratize investing in India. Systematic Investment Plans (SIPs) are a cost-effective way to invest in mutual funds, and competition is rising in the Indian mutual fund industry. The story of debt funds in India is one of learning from mistakes and maturing, and Pramod Kanoujia has recommended Humshad Charna for investments in mutual funds. The Indian mutual fund industry is looking to increase participation by MFDs and HDFC Mutual Fund is launching its first AIF.\n"
     ]
    }
   ],
   "source": [
    "doc_summary = DocumentSummarisation(filepath=f'{filename}')\n",
    "print(doc_summary.summarise_doc_text())"
   ]
  },
  {
   "cell_type": "markdown",
   "metadata": {},
   "source": [
    "# generating Context for a sentence\n",
    "\n",
    "i have used financial data, you can use your own file"
   ]
  },
  {
   "cell_type": "code",
   "execution_count": 2,
   "metadata": {},
   "outputs": [],
   "source": [
    "\n",
    "doc_context = ContextMapping()\n",
    "file_obj = doc_context.get_context(userinput=\"ESAF Small Finance to debut on November 10: Stock may list at 25-30% premium to IPO price,ESAF Small Finance Bank stock may list at a premium of 25-30 percent over the IPO price on November 10, according to analysts. The offer received a strong response from investors and now the stock is expected to open somewhere between Rs 75-80 against the issue price of Rs 60 owing to the company\\u2019s decent financial performance and solid subscription figures.The offer was subscribed 73.15 times with bids at 422.29 crore equity shares against an issue size of 5.77 crore shares. Qualified institutional buyers (QIBs) were at the forefront of supporting the issue, buying 173.52 times the allotted quota, while the portions set aside for highnet worth individuals (HNIs) and retail investors were subscribed 84.37 times and 16.97 times, respectively.Also Read: Protean eGov Technologies IPO | Check allotment & listing dates, grey market premiumPrashanth Tapse, Senior VP Research at Mehta Equities expects a healthy listing gain in the range of 25-30 percent on the back of investor-friendly pricing and reasonable IPO valuations compared to peers.\")"
   ]
  },
  {
   "cell_type": "code",
   "execution_count": 3,
   "metadata": {},
   "outputs": [
    {
     "name": "stdout",
     "output_type": "stream",
     "text": [
      "```json\n",
      "[\n",
      "\t{\n",
      "\t\t\"input_industry\": \"ESAF Small Finance\",\n",
      "\t\t\"standardized_industry\": \"Finance\",\n",
      "\t\t\"match_score\": \"90\"\n",
      "\t},\n",
      "\t{\n",
      "\t\t\"input_industry\": \"Stock\",\n",
      "\t\t\"standardized_industry\": \"Finance\",\n",
      "\t\t\"match_score\": \"80\"\n",
      "\t},\n",
      "\t{\n",
      "\t\t\"input_industry\": \"IPO\",\n",
      "\t\t\"standardized_industry\": \"Finance\",\n",
      "\t\t\"match_score\": \"85\"\n",
      "\t},\n",
      "\t{\n",
      "\t\t\"input_industry\": \"Financial Performance\",\n",
      "\t\t\"standardized_industry\": \"Finance\",\n",
      "\t\t\"match_score\": \"95\"\n",
      "\t},\n",
      "\t{\n",
      "\t\t\"input_industry\": \"Subscription Figures\",\n",
      "\t\t\"standardized_industry\": \"Finance\",\n",
      "\t\t\"match_score\": \"85\"\n",
      "\t},\n",
      "\t{\n",
      "\t\t\"input_industry\": \"Listing Gain\",\n",
      "\t\t\"standardized_industry\": \"Finance\",\n",
      "\t\t\"match_score\": \"90\"\n",
      "\t},\n",
      "\t{\n",
      "\t\t\"input_industry\": \"Investor-Friendly Pricing\",\n",
      "\t\t\"standardized_industry\": \"Finance\",\n",
      "\t\t\"match_score\": \"90\"\n",
      "\t},\n",
      "\t{\n",
      "\t\t\"input_industry\": \"IPO Valuations\",\n",
      "\t\t\"standardized_industry\": \"Finance\",\n",
      "\t\t\"match_score\": \"90\"\n",
      "\t},\n",
      "\t{\n",
      "\t\t\"input_industry\": \"Mehta Equities\",\n",
      "\t\t\"standardized_industry\": \"Finance\",\n",
      "\t\t\"match_score\": \"80\"\n",
      "\t}\n",
      "]\n",
      "```\n"
     ]
    }
   ],
   "source": [
    "print(file_obj)"
   ]
  },
  {
   "cell_type": "code",
   "execution_count": null,
   "metadata": {},
   "outputs": [],
   "source": []
  }
 ],
 "metadata": {
  "kernelspec": {
   "display_name": "Python 3",
   "language": "python",
   "name": "python3"
  },
  "language_info": {
   "codemirror_mode": {
    "name": "ipython",
    "version": 3
   },
   "file_extension": ".py",
   "mimetype": "text/x-python",
   "name": "python",
   "nbconvert_exporter": "python",
   "pygments_lexer": "ipython3",
   "version": "3.11.5"
  }
 },
 "nbformat": 4,
 "nbformat_minor": 2
}
